{
  "nbformat": 4,
  "nbformat_minor": 0,
  "metadata": {
    "colab": {
      "provenance": [],
      "collapsed_sections": [
        "ZZuYAdQblgLP",
        "JUaNoomBu9cx",
        "WWLJ_PFy3nDW"
      ]
    },
    "kernelspec": {
      "name": "python3",
      "display_name": "Python 3"
    }
  },
  "cells": [
    {
      "cell_type": "code",
      "metadata": {
        "colab": {
          "base_uri": "https://localhost:8080/"
        },
        "id": "m5-YpDbIULEf",
        "outputId": "c254da94-a3fb-4485-9b70-10be482a60f2"
      },
      "source": [
        "from google.colab import drive\n",
        "\n",
        "drive.mount('/content/drive')"
      ],
      "execution_count": null,
      "outputs": [
        {
          "output_type": "stream",
          "text": [
            "Drive already mounted at /content/drive; to attempt to forcibly remount, call drive.mount(\"/content/drive\", force_remount=True).\n"
          ],
          "name": "stdout"
        }
      ]
    },
    {
      "cell_type": "code",
      "metadata": {
        "id": "ZsV0rHqYdahr"
      },
      "source": [
        "# Contour 이미지가 zipfile로 존재할 경우 압축 해제하고 진행\n",
        "\n",
        "import zipfile\n",
        "\n",
        "with zipfile.ZipFile('/content/drive/MyDrive/Likenot_ML/Bra_Contours.zip', 'r') as zip_ref:\n",
        "    zip_ref.extractall('/content/drive/MyDrive/Likenot_ML')"
      ],
      "execution_count": null,
      "outputs": []
    },
    {
      "cell_type": "markdown",
      "metadata": {
        "id": "ZZuYAdQblgLP"
      },
      "source": [
        "# 1. 원본 이미지 전처리(Canny & Resize)\n"
      ]
    },
    {
      "cell_type": "code",
      "metadata": {
        "id": "BleSI2tUpBo6"
      },
      "source": [
        "# 1. 원본 이미지 zip 압축 해제 (압축 해제되어 있을 경우 이 과정은 건너뛴다)\n",
        "\n",
        "import zipfile\n",
        "\n",
        "# !! 압축 해제한 원본 이미지 저장 경로 설정 !!\n",
        "src_dir = '/content/drive/MyDrive/Likenot_ML/bratabase_model' \n",
        "\n",
        "with zipfile.ZipFile('/content/drive/MyDrive/Likenot_ML/bratabase_model.zip', 'r') as zip_ref:\n",
        "    zip_ref.extractall(src_dir)"
      ],
      "execution_count": null,
      "outputs": []
    },
    {
      "cell_type": "code",
      "metadata": {
        "id": "0ptz1tCAsFaV"
      },
      "source": [
        "# 2. Canny edge 이미지에 Black Border(검은색 여백)을 추가하여 정사각형 비율을 맞춘 후에\n",
        "# (256, 256)으로 resize한 이미지를 반환하는 함수\n",
        "\n",
        "import cv2\n",
        "\n",
        "def resize_image(img, resize_shape): # resize_shape: 세로, 가로 길이가 같은 정사각형의 튜플\n",
        "    y = img.shape[0] # 이미지의 세로 길이\n",
        "    x = img.shape[1] # 이미지의 가로 길이\n",
        "\n",
        "    if y < x: # 가로가 세로보다 길 경우 위, 아래에 Black Border을 추가한다\n",
        "        img_border = cv2.copyMakeBorder(img, int((x-y)/2), int((x-y)/2), 0, 0, cv2.BORDER_CONSTANT, 0)\n",
        "    else: # 세로가 가로보다 길 경우 양 옆에 Black Border을 추가한다\n",
        "        img_border = cv2.copyMakeBorder(img, 0, 0, int((y-x)/2), int((y-x)/2), cv2.BORDER_CONSTANT, 0)\n",
        "\n",
        "    # 정사각형 비율의 이미지 img_border을 shape에 맞춰 resize한다   \n",
        "    img_resized = cv2.resize(img_border, resize_shape, interpolation=cv2.INTER_AREA)\n",
        "\n",
        "    return img_resized"
      ],
      "execution_count": null,
      "outputs": []
    },
    {
      "cell_type": "code",
      "metadata": {
        "id": "G5-q2Kyawytp"
      },
      "source": [
        "# 3. 전처리 이미지를 저장할 폴더 생성 (이미 존재하는 폴더일 경우 새로 생성되지 않는다)\n",
        "!mkdir '/content/drive/MyDrive/Likenot_ML/Bra_canny'"
      ],
      "execution_count": null,
      "outputs": []
    },
    {
      "cell_type": "code",
      "metadata": {
        "id": "kpwcTIrjmPsA"
      },
      "source": [
        "# 4. 원본 이미지에서 Canny edge 검출 후 resize 진행\n",
        "\n",
        "import os\n",
        "import cv2\n",
        "\n",
        "# !! 원본 이미지 폴더 경로 설정 !!\n",
        "src_dir = '/content/drive/MyDrive/Likenot_ML/Bra_Image_edit'\n",
        "src_image_list = os.listdir(src_dir) # 원본 이미지의 파일 리스트\n",
        "\n",
        "# !! 전처리 이미지 저장할 폴더 경로 설정 !!\n",
        "dst_dir = '/content/drive/MyDrive/Likenot_ML/Bra_canny'\n",
        "\n",
        "# 원본 이미지 전처리 과정\n",
        "for file in src_image_list:\n",
        "    src_path = src_dir + '/' + file # 원본 이미지 경로\n",
        "    img = cv2.imread(src_path, 0)\n",
        "\n",
        "    # 원본 이미지에서 Canny edge 검출\n",
        "    canny= cv2.Canny(img, 30, 70)\n",
        "    # Canny edge 이미지 resize 진행\n",
        "    resized_img = resize_image(canny, (256, 256))\n",
        "\n",
        "    dst_path = dst_dir + '/' + file # 전처리 이미지 저장 경로\n",
        "    cv2.imwrite(dst_path, resized_img)"
      ],
      "execution_count": null,
      "outputs": []
    },
    {
      "cell_type": "markdown",
      "metadata": {
        "id": "JUaNoomBu9cx"
      },
      "source": [
        "# 2. 전처리 이미지에서 Contour(윤곽선) 추출"
      ]
    },
    {
      "cell_type": "code",
      "metadata": {
        "id": "miuVOf3ivG8E"
      },
      "source": [
        "# 1. ndarray인 Contour을 이미지로 반환하는 함수\n",
        "\n",
        "import numpy as np\n",
        "\n",
        "def contour2img(contours):\n",
        "    # 검은 배경 이미지 형성\n",
        "    contour_img = np.zeros(shape=(256, 256))\n",
        "\n",
        "    for contour in contours:\n",
        "        line = contour.reshape(len(contour), 2)\n",
        "        for pixel in line:\n",
        "            # Contour에 해당하는 pixel을 흰 색으로 저장\n",
        "            contour_img[pixel[1], pixel[0]] = 255 \n",
        "\n",
        "    return contour_img"
      ],
      "execution_count": null,
      "outputs": []
    },
    {
      "cell_type": "code",
      "metadata": {
        "id": "xH1PgFZC2mhb"
      },
      "source": [
        "# 2. Contour 이미지를 저장할 폴더 생성 (이미 존재하는 폴더일 경우 생성되지 않는다)\n",
        "!mkdir /content/drive/MyDrive/Likenot_ML/Bra_Contours"
      ],
      "execution_count": null,
      "outputs": []
    },
    {
      "cell_type": "code",
      "metadata": {
        "id": "Jvx4iudv03uF"
      },
      "source": [
        "# 3. Canny edge 이미지에서 외곽선을 구성하는 contour을 추출하여 이미지로 저장한다\n",
        "\n",
        "import cv2\n",
        "import os\n",
        "import numpy as np\n",
        "\n",
        "# !! 전처리 이미지 폴더 경로 설정 !!\n",
        "canny_dir = '/content/drive/MyDrive/Likenot_ML/Bra_canny'\n",
        "\n",
        "# !! Contour 이미지 저장할 폴더 경로 설정 !!\n",
        "dst_dir = '/content/drive/MyDrive/Likenot_ML/Bra_Contours'\n",
        "\n",
        "# 전처리 이미지 파일 리스트\n",
        "img_list = os.listdir(canny_dir)\n",
        "\n",
        "for image in img_list:\n",
        "    canny = canny_dir + '/' + image\n",
        "    img = cv2.imread(canny)\n",
        "    imgray = cv2.cvtColor(img, cv2.COLOR_BGR2GRAY)\n",
        "\n",
        "    # contours 추출\n",
        "    contours, hierarchy = cv2.findContours(imgray, cv2.RETR_TREE, cv2.CHAIN_APPROX_NONE)\n",
        "\n",
        "    # 이미지의 형태를 나타내는 외곽선만 추출해야 하므로 \n",
        "    # contour을 구성하는 점의 개수가 많은, 즉 길이가 긴 순서대로 contours를 정렬한다\n",
        "    contour_order = np.argsort([x.shape[0] for x in contours])[::-1]\n",
        "    # 가장 길이가 긴 contour 3개를 외곽선으로 정의한다\n",
        "    outside = [contours[x] for x in contour_order[:3]]\n",
        "\n",
        "    # 추출한 contour 3개를 이미지로 반환한다\n",
        "    contour_img = contour2img(outside)\n",
        "\n",
        "    dst = dst_dir + '/' + image\n",
        "    cv2.imwrite(dst, contour_img)"
      ],
      "execution_count": null,
      "outputs": []
    },
    {
      "cell_type": "markdown",
      "metadata": {
        "id": "WWLJ_PFy3nDW"
      },
      "source": [
        "# 3. Contour 이미지 라벨링"
      ]
    },
    {
      "cell_type": "code",
      "metadata": {
        "id": "AO0OcfzR-zuZ"
      },
      "source": [
        "# 1. !! csv 파일, Contour 이미지 폴더 경로 설정 !!\n",
        "csv_dir = '/content/drive/MyDrive/Likenot_ML/Image_Label.csv'\n",
        "contour_dir = '/content/drive/MyDrive/Likenot_ML/Bra_Contours'"
      ],
      "execution_count": null,
      "outputs": []
    },
    {
      "cell_type": "code",
      "metadata": {
        "colab": {
          "base_uri": "https://localhost:8080/",
          "height": 213
        },
        "id": "O47xqDuS91DW",
        "outputId": "9b8bfa38-850f-42bf-e62f-4227feef29dd"
      },
      "source": [
        "# 2. 이미지 라벨 불러오기\n",
        "\n",
        "# jamo 패키지 설치\n",
        "!pip install jamo\n",
        "\n",
        "from jamo import h2j\n",
        "import pandas as pd\n",
        "import os\n",
        "\n",
        "# Image_Label.csv를 읽어들인다\n",
        "label = pd.read_csv(csv_dir)\n",
        "\n",
        "# 이미지 파일의 str과 image_label['ID']의 str의 한글 자모 조합 형태를 통일시킨다\n",
        "label['ID'] = [h2j(id) for id in label['ID']]\n",
        "\n",
        "# 측정하지 않은 고어 너비(결측값)을 정수 -1로 변환\n",
        "label = label.fillna(-1)\n",
        "label['goreWidth'] = label['goreWidth'].astype(int)\n",
        "\n",
        "# label에서 Contour 이미지 폴더에 파일이 존재하는 행만 골라낸다\n",
        "image_list = os.listdir(contour_dir)\n",
        "image_label = pd.DataFrame(columns=label.columns)\n",
        "\n",
        "for file in image_list:\n",
        "    image_id = file.split('.')[0] # 확장자 제거\n",
        "    \n",
        "    # 이미지 폴더에 파일이 존재하는 image_id만으로 image_label dataframe을 재구성한다\n",
        "    if image_id in list(label['ID']):\n",
        "        image_label = image_label.append(label[label['ID'] == image_id], ignore_index=True)\n",
        "\n",
        "image_label.head()"
      ],
      "execution_count": null,
      "outputs": [
        {
          "output_type": "stream",
          "text": [
            "Requirement already satisfied: jamo in /usr/local/lib/python3.6/dist-packages (0.4.1)\n"
          ],
          "name": "stdout"
        },
        {
          "output_type": "execute_result",
          "data": {
            "text/html": [
              "<div>\n",
              "<style scoped>\n",
              "    .dataframe tbody tr th:only-of-type {\n",
              "        vertical-align: middle;\n",
              "    }\n",
              "\n",
              "    .dataframe tbody tr th {\n",
              "        vertical-align: top;\n",
              "    }\n",
              "\n",
              "    .dataframe thead th {\n",
              "        text-align: right;\n",
              "    }\n",
              "</style>\n",
              "<table border=\"1\" class=\"dataframe\">\n",
              "  <thead>\n",
              "    <tr style=\"text-align: right;\">\n",
              "      <th></th>\n",
              "      <th>ID</th>\n",
              "      <th>Cup</th>\n",
              "      <th>goreHeight</th>\n",
              "      <th>goreWidth</th>\n",
              "      <th>isBraret</th>\n",
              "    </tr>\n",
              "  </thead>\n",
              "  <tbody>\n",
              "    <tr>\n",
              "      <th>0</th>\n",
              "      <td>프리부_8</td>\n",
              "      <td>100</td>\n",
              "      <td>2</td>\n",
              "      <td>-1</td>\n",
              "      <td>1</td>\n",
              "    </tr>\n",
              "    <tr>\n",
              "      <th>1</th>\n",
              "      <td>휠라_8</td>\n",
              "      <td>100</td>\n",
              "      <td>2</td>\n",
              "      <td>1</td>\n",
              "      <td>0</td>\n",
              "    </tr>\n",
              "    <tr>\n",
              "      <th>2</th>\n",
              "      <td>휠라_1</td>\n",
              "      <td>100</td>\n",
              "      <td>0</td>\n",
              "      <td>0</td>\n",
              "      <td>0</td>\n",
              "    </tr>\n",
              "    <tr>\n",
              "      <th>3</th>\n",
              "      <td>프리부_1</td>\n",
              "      <td>75</td>\n",
              "      <td>0</td>\n",
              "      <td>-1</td>\n",
              "      <td>1</td>\n",
              "    </tr>\n",
              "    <tr>\n",
              "      <th>4</th>\n",
              "      <td>프리부_3</td>\n",
              "      <td>75</td>\n",
              "      <td>0</td>\n",
              "      <td>-1</td>\n",
              "      <td>1</td>\n",
              "    </tr>\n",
              "  </tbody>\n",
              "</table>\n",
              "</div>"
            ],
            "text/plain": [
              "         ID  Cup goreHeight goreWidth isBraret\n",
              "0  프리부_8  100          2        -1        1\n",
              "1   휠라_8  100          2         1        0\n",
              "2   휠라_1  100          0         0        0\n",
              "3  프리부_1   75          0        -1        1\n",
              "4  프리부_3   75          0        -1        1"
            ]
          },
          "metadata": {
            "tags": []
          },
          "execution_count": 9
        }
      ]
    },
    {
      "cell_type": "code",
      "metadata": {
        "id": "XQ0B7L8LAKor"
      },
      "source": [
        "# 3. 이미지의 label을 기준으로 train, test set을 반환하는 함수\n",
        "\n",
        "import numpy as np\n",
        "from sklearn.model_selection import StratifiedKFold\n",
        "\n",
        "def train_test_set(column): # column: label 이름\n",
        "    # test_size=0.2 이므로 n_splits=5\n",
        "    skf = StratifiedKFold(n_splits=5)\n",
        "    \n",
        "    # skf.split의 마지막 train, test index를 기준으로 train, test set을 나눈다\n",
        "    for train, test in skf.split(list(image_label['ID']), list(image_label[column])):\n",
        "        train_index = train\n",
        "        test_index = test\n",
        "    \n",
        "    X_train = list(image_label['ID'].iloc[train_index])\n",
        "    X_test = list(image_label['ID'].iloc[test_index])\n",
        "    y_train = list(image_label[column].iloc[train_index])\n",
        "    y_test = list(image_label[column].iloc[test_index])\n",
        "\n",
        "    return X_train, X_test, y_train, y_test"
      ],
      "execution_count": null,
      "outputs": []
    },
    {
      "cell_type": "code",
      "metadata": {
        "id": "ax_671mm3mL9"
      },
      "source": [
        "# 4. 라벨링한 Contour 이미지를 저장할 폴더 생성 (이미 존재할 경우 생성되지 않는다)\n",
        "!mkdir /content/drive/MyDrive/Likenot_ML/Bra_Contours_Labeled"
      ],
      "execution_count": null,
      "outputs": []
    },
    {
      "cell_type": "code",
      "metadata": {
        "id": "eQimk7EBA5it"
      },
      "source": [
        "# 5. !! 라벨링한 이미지를 저장할 폴더 경로 설정 !!\n",
        "dst_dir = '/content/drive/MyDrive/Likenot_ML/Bra_Contours_Labeled'"
      ],
      "execution_count": null,
      "outputs": []
    },
    {
      "cell_type": "code",
      "metadata": {
        "id": "_Y32uV4Vem8x"
      },
      "source": [
        "# 6. 'isBraret' label을 기준으로 train, test set을 나눈 후 라벨링\n",
        "# 1 -> true / 0 -> false\n",
        "import zipfile\n",
        "\n",
        "# train test split\n",
        "X_train, X_test, braret_train, braret_test = train_test_set('isBraret')\n",
        "\n",
        "# 이미지 저장 압축 파일 설정\n",
        "dst_zip = dst_dir + '/isBraret.zip'\n",
        "\n",
        "for file in image_list:\n",
        "    srcname = contour_dir + '/' + file # 전처리 이미지 경로\n",
        "    image_id = file.split('.')[0] # 확장자 제거한 파일명\n",
        "    # train set 형성\n",
        "    if image_id in X_train:\n",
        "        # train set 내 이미지 라벨링\n",
        "        if braret_train[X_train.index(image_id)] == 1:\n",
        "            arcname = '/train/true/' + file\n",
        "        else:\n",
        "            arcname = '/train/false/' + file\n",
        "        \n",
        "        with zipfile.ZipFile('%s'%(dst_zip), 'a') as bra:\n",
        "            bra.write(srcname, arcname)\n",
        "\n",
        "    # test set 형성\n",
        "    elif image_id in X_test:\n",
        "        # test set 내 이미지 라벨링\n",
        "        if braret_test[X_test.index(image_id)] == 1:\n",
        "            arcname = '/test/true/' + file\n",
        "        else:\n",
        "            arcname = '/test/false/' + file\n",
        "        \n",
        "        with zipfile.ZipFile('%s'%(dst_zip), 'a') as bra:\n",
        "            bra.write(srcname, arcname)"
      ],
      "execution_count": null,
      "outputs": []
    },
    {
      "cell_type": "code",
      "metadata": {
        "id": "tuQnd7NvAk2f"
      },
      "source": [
        "# 7. 'Cup' label을 기준으로 train, test set을 나눈 후 라벨링\n",
        "# 100 -> 풀컵 / 75 -> 3/4컵 / 50 -> 1/2컵\n",
        "import zipfile\n",
        "\n",
        "# train test split\n",
        "X_train, X_test, cup_train, cup_test = train_test_set('Cup')\n",
        "\n",
        "# 이미지 저장 압축 파일 설정\n",
        "dst_zip = dst_dir + '/Cup.zip'\n",
        "\n",
        "for file in image_list:\n",
        "    srcname = contour_dir + '/' + file # Contour 이미지 경로\n",
        "    image_id = file.split('.')[0] # 확장자 제거한 파일명\n",
        "    # train set 형성\n",
        "    if image_id in X_train:\n",
        "        # train set 내 이미지 라벨링\n",
        "        if cup_train[X_train.index(image_id)] == 100:\n",
        "            arcname = '/train/100/' + file\n",
        "        elif cup_train[X_train.index(image_id)] == 75:\n",
        "            arcname = '/train/75/' + file\n",
        "        else:\n",
        "            arcname = '/train/50/' + file\n",
        "        \n",
        "        with zipfile.ZipFile('%s'%(dst_zip), 'a') as bra:\n",
        "            bra.write(srcname, arcname)\n",
        "\n",
        "    # test set 형성\n",
        "    elif image_id in X_test:\n",
        "        # test set 내 이미지 라벨링\n",
        "        if cup_test[X_test.index(image_id)] == 100:\n",
        "            arcname = '/test/100/' + file\n",
        "        elif cup_test[X_test.index(image_id)] == 75:\n",
        "            arcname = '/test/75/' + file\n",
        "        else:\n",
        "            arcname = '/test/50/' + file\n",
        "        \n",
        "        with zipfile.ZipFile('%s'%(dst_zip), 'a') as bra:\n",
        "            bra.write(srcname, arcname)"
      ],
      "execution_count": null,
      "outputs": []
    },
    {
      "cell_type": "code",
      "metadata": {
        "id": "Hy6H3iPnB1ts"
      },
      "source": [
        "# 8. 'goreHeight' label을 기준으로 train, test set을 나눈 후 라벨링\n",
        "# 2 -> high / 1 -> middle / 0 -> low\n",
        "import zipfile\n",
        "\n",
        "# train test split\n",
        "X_train, X_test, goreH_train, goreH_test = train_test_set('goreHeight')\n",
        "\n",
        "# 이미지 저장 압축 파일 설정\n",
        "dst_zip = dst_dir + '/goreHeight.zip' \n",
        "\n",
        "for file in image_list:\n",
        "    srcname = contour_dir + '/' + file # Contour 이미지 경로\n",
        "    image_id = file.split('.')[0] # 확장자 제거한 파일명\n",
        "    # train set 형성\n",
        "    if image_id in X_train:\n",
        "        # train set 내 이미지 라벨링\n",
        "        if goreH_train[X_train.index(image_id)] == 2:\n",
        "            arcname = '/train/high/' + file\n",
        "        elif goreH_train[X_train.index(image_id)] == 1:\n",
        "            arcname = '/train/middle/' + file\n",
        "        else:\n",
        "            arcname = '/train/low/' + file\n",
        "        \n",
        "        with zipfile.ZipFile('%s'%(dst_zip), 'a') as bra:\n",
        "            bra.write(srcname, arcname)\n",
        "\n",
        "    # test set 형성\n",
        "    elif image_id in X_test:\n",
        "        # test set 내 이미지 라벨링\n",
        "        if goreH_test[X_test.index(image_id)] == 2:\n",
        "            arcname = '/test/high/' + file\n",
        "        elif goreH_test[X_test.index(image_id)] == 1:\n",
        "            arcname = '/test/middle/' + file\n",
        "        else:\n",
        "            arcname = '/test/low/' + file\n",
        "        \n",
        "        with zipfile.ZipFile('%s'%(dst_zip), 'a') as bra:\n",
        "            bra.write(srcname, arcname)"
      ],
      "execution_count": null,
      "outputs": []
    },
    {
      "cell_type": "code",
      "metadata": {
        "id": "QXO-1NLDCMrC"
      },
      "source": [
        "# 9. 'goreWidth' label을 기준으로 train, test set을 나눈 후 라벨링\n",
        "# 2 -> wide / 1 -> middle / 0 -> narrow / -1 -> 측정X\n",
        "import zipfile\n",
        "\n",
        "# train test split\n",
        "X_train, X_test, goreW_train, goreW_test = train_test_set('goreWidth')\n",
        "\n",
        "# 이미지 저장 압축 파일 설정\n",
        "dst_zip = dst_dir + '/goreWidth.zip'\n",
        "\n",
        "for file in image_list:\n",
        "    srcname = contour_dir + '/' + file # Contour 이미지 경로\n",
        "    image_id = file.split('.')[0] # 확장자 제거한 파일명\n",
        "    # train set 형성\n",
        "    if image_id in X_train:\n",
        "        # train set 내 이미지 라벨링\n",
        "        if goreW_train[X_train.index(image_id)] == 2:\n",
        "            arcname = '/train/wide/' + file\n",
        "        elif goreW_train[X_train.index(image_id)] == 1:\n",
        "            arcname = '/train/middle/' + file\n",
        "        elif goreW_train[X_train.index(image_id)] == 0:\n",
        "            arcname = '/train/narrow/' + file\n",
        "        else:\n",
        "            arcname = '/train/none/' + file\n",
        "        \n",
        "        with zipfile.ZipFile('%s'%(dst_zip), 'a') as bra:\n",
        "            bra.write(srcname, arcname)\n",
        "\n",
        "    # test set 형성\n",
        "    elif image_id in X_test:\n",
        "        # test set 내 이미지 라벨링\n",
        "        if goreW_test[X_test.index(image_id)] == 2:\n",
        "            arcname = '/test/wide/' + file\n",
        "        elif goreW_test[X_test.index(image_id)] == 1:\n",
        "            arcname = '/test/middle/' + file\n",
        "        elif goreW_test[X_test.index(image_id)] == 0:\n",
        "            arcname = '/test/narrow/' + file\n",
        "        else:\n",
        "            arcname = '/test/none/' + file\n",
        "        \n",
        "        with zipfile.ZipFile('%s'%(dst_zip), 'a') as bra:\n",
        "            bra.write(srcname, arcname)"
      ],
      "execution_count": null,
      "outputs": []
    }
  ]
}