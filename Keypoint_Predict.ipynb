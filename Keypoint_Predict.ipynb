{
  "nbformat": 4,
  "nbformat_minor": 0,
  "metadata": {
    "colab": {
      "provenance": [],
      "collapsed_sections": []
    },
    "kernelspec": {
      "display_name": "Python 3",
      "name": "python3"
    },
    "accelerator": "GPU"
  },
  "cells": [
    {
      "cell_type": "code",
      "metadata": {
        "id": "T_7z34qvjjp9",
        "colab": {
          "base_uri": "https://localhost:8080/"
        },
        "outputId": "b98e3fc3-2a36-4e72-b25c-6aafbf708fa1"
      },
      "source": [
        "from google.colab import drive\n",
        "\n",
        "drive.mount('/content/drive')"
      ],
      "execution_count": null,
      "outputs": [
        {
          "output_type": "stream",
          "text": [
            "Mounted at /content/drive\n"
          ],
          "name": "stdout"
        }
      ]
    },
    {
      "cell_type": "markdown",
      "metadata": {
        "id": "OYzKCrkd3TE5"
      },
      "source": [
        "# 1. 학습 데이터 준비"
      ]
    },
    {
      "cell_type": "code",
      "metadata": {
        "id": "MRroLIeS1oKo",
        "colab": {
          "base_uri": "https://localhost:8080/"
        },
        "outputId": "7c0f2713-4148-4ab5-a722-7765f99279da"
      },
      "source": [
        "!pip install -U albumentations"
      ],
      "execution_count": null,
      "outputs": [
        {
          "output_type": "stream",
          "text": [
            "Requirement already satisfied: albumentations in /usr/local/lib/python3.7/dist-packages (0.1.12)\n",
            "Collecting albumentations\n",
            "  Downloading albumentations-1.0.3-py3-none-any.whl (98 kB)\n",
            "\u001b[K     |████████████████████████████████| 98 kB 4.6 MB/s \n",
            "\u001b[?25hRequirement already satisfied: scipy in /usr/local/lib/python3.7/dist-packages (from albumentations) (1.4.1)\n",
            "Requirement already satisfied: scikit-image>=0.16.1 in /usr/local/lib/python3.7/dist-packages (from albumentations) (0.16.2)\n",
            "Requirement already satisfied: PyYAML in /usr/local/lib/python3.7/dist-packages (from albumentations) (3.13)\n",
            "Requirement already satisfied: numpy>=1.11.1 in /usr/local/lib/python3.7/dist-packages (from albumentations) (1.19.5)\n",
            "Collecting opencv-python-headless>=4.1.1\n",
            "  Downloading opencv_python_headless-4.5.3.56-cp37-cp37m-manylinux2014_x86_64.whl (37.1 MB)\n",
            "\u001b[K     |████████████████████████████████| 37.1 MB 48 kB/s \n",
            "\u001b[?25hRequirement already satisfied: matplotlib!=3.0.0,>=2.0.0 in /usr/local/lib/python3.7/dist-packages (from scikit-image>=0.16.1->albumentations) (3.2.2)\n",
            "Requirement already satisfied: imageio>=2.3.0 in /usr/local/lib/python3.7/dist-packages (from scikit-image>=0.16.1->albumentations) (2.4.1)\n",
            "Requirement already satisfied: PyWavelets>=0.4.0 in /usr/local/lib/python3.7/dist-packages (from scikit-image>=0.16.1->albumentations) (1.1.1)\n",
            "Requirement already satisfied: pillow>=4.3.0 in /usr/local/lib/python3.7/dist-packages (from scikit-image>=0.16.1->albumentations) (7.1.2)\n",
            "Requirement already satisfied: networkx>=2.0 in /usr/local/lib/python3.7/dist-packages (from scikit-image>=0.16.1->albumentations) (2.5.1)\n",
            "Requirement already satisfied: pyparsing!=2.0.4,!=2.1.2,!=2.1.6,>=2.0.1 in /usr/local/lib/python3.7/dist-packages (from matplotlib!=3.0.0,>=2.0.0->scikit-image>=0.16.1->albumentations) (2.4.7)\n",
            "Requirement already satisfied: cycler>=0.10 in /usr/local/lib/python3.7/dist-packages (from matplotlib!=3.0.0,>=2.0.0->scikit-image>=0.16.1->albumentations) (0.10.0)\n",
            "Requirement already satisfied: python-dateutil>=2.1 in /usr/local/lib/python3.7/dist-packages (from matplotlib!=3.0.0,>=2.0.0->scikit-image>=0.16.1->albumentations) (2.8.1)\n",
            "Requirement already satisfied: kiwisolver>=1.0.1 in /usr/local/lib/python3.7/dist-packages (from matplotlib!=3.0.0,>=2.0.0->scikit-image>=0.16.1->albumentations) (1.3.1)\n",
            "Requirement already satisfied: six in /usr/local/lib/python3.7/dist-packages (from cycler>=0.10->matplotlib!=3.0.0,>=2.0.0->scikit-image>=0.16.1->albumentations) (1.15.0)\n",
            "Requirement already satisfied: decorator<5,>=4.3 in /usr/local/lib/python3.7/dist-packages (from networkx>=2.0->scikit-image>=0.16.1->albumentations) (4.4.2)\n",
            "Installing collected packages: opencv-python-headless, albumentations\n",
            "  Attempting uninstall: albumentations\n",
            "    Found existing installation: albumentations 0.1.12\n",
            "    Uninstalling albumentations-0.1.12:\n",
            "      Successfully uninstalled albumentations-0.1.12\n",
            "Successfully installed albumentations-1.0.3 opencv-python-headless-4.5.3.56\n"
          ],
          "name": "stdout"
        }
      ]
    },
    {
      "cell_type": "code",
      "metadata": {
        "id": "tNX5OqpW10uj"
      },
      "source": [
        "import albumentations as A\n",
        "import cv2\n",
        "import matplotlib.pyplot as plt\n",
        "import numpy as np\n",
        "import pandas as pd\n",
        "import glob\n",
        "import os"
      ],
      "execution_count": null,
      "outputs": []
    },
    {
      "cell_type": "markdown",
      "metadata": {
        "id": "k7RbAmP_I4Rb"
      },
      "source": [
        "# 1-1. Keypoint csv 파일을 npy 파일로 변환"
      ]
    },
    {
      "cell_type": "markdown",
      "metadata": {
        "id": "FKfINQjv2Myd"
      },
      "source": [
        "이미지 이름이 한글로 된 경우 colab에서 인식이 안될 수 있기 때문에 jamo 패키지를 이용해 한글 표기 방식을 바꿔줍니다.\n",
        "\n",
        "\n",
        "\n",
        "```\n",
        "! pip install jamo\n",
        "\n",
        "from jamo import h2j\n",
        "h2j(## 변환하고자 하는 한글 문자열 ##)\n",
        "```\n",
        "\n",
        "\n",
        "\n",
        "\n",
        "\n",
        "이미지 이름이 영어인 경우 사용하지 않아도 됩니다."
      ]
    },
    {
      "cell_type": "markdown",
      "metadata": {
        "id": "ohjDJNkMi46I"
      },
      "source": [
        "keypoint 라벨 csv 파일을 불러와 확인합니다."
      ]
    },
    {
      "cell_type": "code",
      "metadata": {
        "colab": {
          "base_uri": "https://localhost:8080/",
          "height": 195
        },
        "id": "1l_0wtiQNMDg",
        "outputId": "1cefa9d7-1902-4de8-9fca-c2225416430c"
      },
      "source": [
        "key_df = pd.read_csv(\"## 라벨 csv 파일 경로 ##\")\n",
        "key_df.head()"
      ],
      "execution_count": null,
      "outputs": [
        {
          "output_type": "execute_result",
          "data": {
            "text/html": [
              "<div>\n",
              "<style scoped>\n",
              "    .dataframe tbody tr th:only-of-type {\n",
              "        vertical-align: middle;\n",
              "    }\n",
              "\n",
              "    .dataframe tbody tr th {\n",
              "        vertical-align: top;\n",
              "    }\n",
              "\n",
              "    .dataframe thead th {\n",
              "        text-align: right;\n",
              "    }\n",
              "</style>\n",
              "<table border=\"1\" class=\"dataframe\">\n",
              "  <thead>\n",
              "    <tr style=\"text-align: right;\">\n",
              "      <th></th>\n",
              "      <th>label</th>\n",
              "      <th>x</th>\n",
              "      <th>y</th>\n",
              "      <th>id</th>\n",
              "      <th>width</th>\n",
              "      <th>height</th>\n",
              "    </tr>\n",
              "  </thead>\n",
              "  <tbody>\n",
              "    <tr>\n",
              "      <th>0</th>\n",
              "      <td>cup</td>\n",
              "      <td>175</td>\n",
              "      <td>73</td>\n",
              "      <td>codescombine_1.png</td>\n",
              "      <td>227</td>\n",
              "      <td>166</td>\n",
              "    </tr>\n",
              "    <tr>\n",
              "      <th>1</th>\n",
              "      <td>cup</td>\n",
              "      <td>197</td>\n",
              "      <td>105</td>\n",
              "      <td>codescombine_1.png</td>\n",
              "      <td>227</td>\n",
              "      <td>166</td>\n",
              "    </tr>\n",
              "    <tr>\n",
              "      <th>2</th>\n",
              "      <td>cup</td>\n",
              "      <td>156</td>\n",
              "      <td>153</td>\n",
              "      <td>codescombine_1.png</td>\n",
              "      <td>227</td>\n",
              "      <td>166</td>\n",
              "    </tr>\n",
              "    <tr>\n",
              "      <th>3</th>\n",
              "      <td>cup</td>\n",
              "      <td>52</td>\n",
              "      <td>72</td>\n",
              "      <td>codescombine_1.png</td>\n",
              "      <td>227</td>\n",
              "      <td>166</td>\n",
              "    </tr>\n",
              "    <tr>\n",
              "      <th>4</th>\n",
              "      <td>cup</td>\n",
              "      <td>29</td>\n",
              "      <td>106</td>\n",
              "      <td>codescombine_1.png</td>\n",
              "      <td>227</td>\n",
              "      <td>166</td>\n",
              "    </tr>\n",
              "  </tbody>\n",
              "</table>\n",
              "</div>"
            ],
            "text/plain": [
              "  label    x    y                  id  width  height\n",
              "0   cup  175   73  codescombine_1.png    227     166\n",
              "1   cup  197  105  codescombine_1.png    227     166\n",
              "2   cup  156  153  codescombine_1.png    227     166\n",
              "3   cup   52   72  codescombine_1.png    227     166\n",
              "4   cup   29  106  codescombine_1.png    227     166"
            ]
          },
          "metadata": {
            "tags": []
          },
          "execution_count": 6
        }
      ]
    },
    {
      "cell_type": "markdown",
      "metadata": {
        "id": "qXPGDr_s3PQr"
      },
      "source": [
        "불러온 csv 파일에서 라벨이 \"cup\", \"gore\" 두 가지인 경우 아래 코드를 사용하여 npy 파일로 변환합니다."
      ]
    },
    {
      "cell_type": "code",
      "metadata": {
        "id": "TDpBDmhMOSPb"
      },
      "source": [
        "dict_list = []\n",
        "id_list = np.unique(key_df['id'])\n",
        "\n",
        "for id in id_list:\n",
        "    # 해당 id 이미지의 keypoints 좌표 & 라벨 리스트를 생성합니다.\n",
        "    keypoints = []\n",
        "    labels = []\n",
        "\n",
        "    gore_df = key_df.loc[key_df['id'] == id].loc[key_df['label'] == 'gore']\n",
        "    cup_df = key_df.loc[key_df['id'] == id].loc[key_df['label'] == 'cup']\n",
        "\n",
        "    # cup 라벨의 좌표가 6개(왼쪽 컵 3개 + 오른쪽 컵 3개)가 아닌 경우 라벨링이 잘못된 것이므로\n",
        "    # 해당 제품은 제외하고 다음 제품으로 넘어갑니다.\n",
        "    if len(cup_df) != 6: \n",
        "        continue\n",
        "\n",
        "    ## 1. keypoints 좌표 & 라벨 리스트에 gore1, gore2를 추가합니다 ## \n",
        "\n",
        "    # 고어 너비의 길이가 0일 때 gore 라벨의 좌표는 1개입니다.\n",
        "    if len(gore_df) == 1:\n",
        "        gore1 = (gore_df.iloc[0]['x'], gore_df.iloc[0]['y'])\n",
        "        keypoints.extend([gore1, gore1]) # npy로 변환 시 같은 좌표값을 가지는 gore1, gore2 좌표를 생성합니다.\n",
        "        labels.extend(['gore1', 'gore2'])\n",
        "\n",
        "    # 고어 너비의 길이가 0보다 클 때 gore 라벨의 좌표는 2개입니다.\n",
        "    elif len(gore_df) == 2:\n",
        "        gore1 = (gore_df.iloc[0]['x'], gore_df.iloc[0]['y'])\n",
        "        gore2 = (gore_df.iloc[1]['x'], gore_df.iloc[1]['y'])\n",
        "\n",
        "        # gore1(왼쪽 gore)의 x좌표는 gore2(오른쪽 gore)의 x좌표보다 작습니다.\n",
        "        if gore1[0] > gore2[0]:\n",
        "            gore1, gore2 = gore2, gore1\n",
        "\n",
        "        keypoints.extend([gore1, gore2])\n",
        "        labels.extend(['gore1', 'gore2'])\n",
        "\n",
        "    # gore1(왼쪽 gore)보다 왼쪽에 위치한 왼쪽 cup 라벨의 좌표가 3개가 아닌 경우 라벨링이 잘못된 것이므로\n",
        "    # 해당 제품은 제외하고 다음 제품으로 넘어갑니다.\n",
        "    if len(cup_df.loc[cup_df['x'] < gore1[0]]) != 3:\n",
        "        continue\n",
        "    \n",
        "    ## 2. keypoints 좌표 & 라벨 리스트에 cup1, cup2의 top, wire, bottom을 추가합니다. ##\n",
        "\n",
        "    # 왼쪽 cup(cup1) 라벨의 좌표 중 y좌표값이 작은(높이가 높은) 순서대로 top, wire, bottom입니다.\n",
        "    top, wire, bottom = cup_df.loc[cup_df['x'] < gore1[0], 'y'].sort_values().index\n",
        "    cup1_top, cup1_wire, cup1_bottom = (cup_df.loc[top, 'x'], cup_df.loc[top, 'y']), (cup_df.loc[wire, 'x'], cup_df.loc[wire, 'y']), (cup_df.loc[bottom, 'x'], cup_df.loc[bottom, 'y'])\n",
        "\n",
        "    # 오른쪽 cup(cup2) 라벨의 좌표 중 y좌표값이 작은(높이가 높은) 순서대로 top, wire, bottom입니다.\n",
        "    top, wire, bottom = cup_df.loc[cup_df['x'] > gore1[0], 'y'].sort_values().index\n",
        "    cup2_top, cup2_wire, cup2_bottom = (cup_df.loc[top, 'x'], cup_df.loc[top, 'y']), (cup_df.loc[wire, 'x'], cup_df.loc[wire, 'y']), (cup_df.loc[bottom, 'x'], cup_df.loc[bottom, 'y'])\n",
        "\n",
        "    keypoints.extend([cup1_top, cup1_wire, cup1_bottom, cup2_top, cup2_wire, cup2_bottom])\n",
        "    labels.extend(['cup1_top', 'cup1_wire', 'cup1_bottom', 'cup2_top', 'cup2_wire', 'cup2_bottom'])\n",
        "\n",
        "    ## 3. 해당 제품의 id와 keypoints 좌표, 라벨을 dictionary로 변환하여 dictionary 리스트에 추가합니다. ##\n",
        "    dict_list.append({'id': id.split('.')[0], 'keypoints': keypoints, 'labels':labels})"
      ],
      "execution_count": null,
      "outputs": []
    },
    {
      "cell_type": "code",
      "metadata": {
        "id": "a9h_1Wdds-9s"
      },
      "source": [
        "# dictionary 리스트를 npy 파일로 변환하여 저장합니다.\n",
        "np.save(\"## npy 파일 경로 ##\", dict_list)"
      ],
      "execution_count": null,
      "outputs": []
    },
    {
      "cell_type": "markdown",
      "metadata": {
        "id": "X9kRbVMGJERC"
      },
      "source": [
        "# 1-2. Image Resize & Augmentation"
      ]
    },
    {
      "cell_type": "markdown",
      "metadata": {
        "id": "6lH7aQMPlV6S"
      },
      "source": [
        "**Resize**\n",
        "\n",
        "크기가 다른 학습 이미지를 모델에 입력하기 위해선 이미지의 크기를 통일해야 합니다. 이미지의 사이즈가 너무 크면 학습이 오래 걸리고, 사이즈가 너무 작으면 이미지 손실로 인해 정확한 학습이 어렵습니다. 적절한 사이즈의 \"정사각형\" 이미지로 변환해야 학습에 용이합니다.\n",
        "\n",
        "\n",
        "**Augmentation**\n",
        "\n",
        "라벨링된 학습 이미지가 적을 때, 이미지에 변형을 주어 학습 이미지 개수를 늘리는 방식을 Augmentation (부풀리기) 라고 합니다. "
      ]
    },
    {
      "cell_type": "markdown",
      "metadata": {
        "id": "a9dgyOLoaZ3l"
      },
      "source": [
        "라벨링 된 이미지를 변형하면 각 라벨의 keypoint 좌표값 역시 함께 변화해야 합니다. \n",
        "\n",
        "keypoint와 이미지를 함께 변형하기 위해 **Albumentation** API를 이용합니다.\n",
        "\n",
        "* Albumentation 사용에 대한 설명 및 예시입니다. A.Compose의 매개변수에 대한 설명이 구체적으로 적혀있습니다.\n",
        "\n",
        "    https://albumentations.ai/docs/getting_started/keypoints_augmentation/\n",
        "\n",
        "\n",
        "* Resize API의 매개변수에 대한 설명입니다. (이미지 resize)\n",
        "\n",
        "    https://vfdev-5-albumentations.readthedocs.io/en/docs_pytorch_fix/api/augmentations.html#albumentations.augmentations.transforms.ShiftScaleRotate\n",
        "\n",
        "* ShiftScaleRotate API의 매개변수에 대한 설명입니다. (이미지 augmentation)\n",
        "\n",
        "    https://vfdev-5-albumentations.readthedocs.io/en/docs_pytorch_fix/api/augmentations.html#albumentations.augmentations.transforms.Resize"
      ]
    },
    {
      "cell_type": "code",
      "metadata": {
        "id": "xqtf5lC6NiQX"
      },
      "source": [
        "class_labels = ['gore1', 'gore2', 'cup1_top', 'cup1_wire', 'cup1_bottom', 'cup2_top', 'cup2_wire', 'cup2_bottom']\n",
        "\n",
        "# 이미지 크기를 128 x 128 로 resize 하는 함수를 생성합니다.\n",
        "resize = A.Compose(\n",
        "    [A.Resize(128, 128)],\n",
        "    keypoint_params=A.KeypointParams(format='xy', label_fields=['class_labels'], remove_invisible=True)\n",
        ")\n",
        "\n",
        "# 이미지를 지정한 범위 내에서 랜덤으로 회전, 확대, 이동하여 변형하는 함수를 생성합니다.\n",
        "transform = A.Compose(\n",
        "    [A.ShiftScaleRotate(rotate_limit=15, scale_limit=0.2, shift_limit_x=0.1, shift_limit_y=0.2, border_mode=cv2.BORDER_REPLICATE, p=1)],\n",
        "    keypoint_params=A.KeypointParams(format='xy', label_fields=['class_labels'], remove_invisible=False)\n",
        ")"
      ],
      "execution_count": null,
      "outputs": []
    },
    {
      "cell_type": "markdown",
      "metadata": {
        "id": "DbC4uHVDn7WG"
      },
      "source": [
        "Albumentation의 Resize 함수만 이용해 특정 사이즈의 정사각형 이미지로 변환할 경우 기존 이미지의 비율도 바뀌기 때문에 적절하지 않습니다. resize 함수를 적용하기 전, **get_square_image** 함수를 이용해 정사각형 이미지로 변환합니다."
      ]
    },
    {
      "cell_type": "code",
      "metadata": {
        "id": "pQHNKY3mwWJe"
      },
      "source": [
        "# 이미지의 비율을 유지하여 정사각형 이미지로 resize하는 함수\n",
        "\n",
        "def get_square_image(img, keypoints):\n",
        "    h = img.shape[0] # 이미지의 세로 길이\n",
        "    w = img.shape[1] # 이미지의 가로 길이\n",
        "\n",
        "    if h < w: # 가로가 세로보다 길 경우 위, 아래에 여백을 추가합니다.\n",
        "        img_border = cv2.copyMakeBorder(img, int((w-h)/2), int((w-h)/2), 0, 0, cv2.BORDER_REPLICATE)\n",
        "        new_keypoints = [(x, y + int(w-h)/2) for (x, y) in keypoints] # 이미지 위에 여백이 붙은 만큼 y좌표값을 수정합니다.\n",
        "        \n",
        "    else: # 세로가 가로보다 길 경우 양 옆에 여백을 추가합니다.\n",
        "        img_border = cv2.copyMakeBorder(img, 0, 0, int((h-w)/2), int((h-w)/2), cv2.BORDER_REPLICATE)\n",
        "        new_keypoints = [(x + int(h-w)/2, y) for (x, y) in keypoints] # 이미지 왼쪽에 여백이 붙은 만큼 x좌표값을 수정합니다.\n",
        "\n",
        "    return img_border, new_keypoints # 변환된 이미지 ndarray와 변환된 keypoints 리스트를 반환합니다."
      ],
      "execution_count": null,
      "outputs": []
    },
    {
      "cell_type": "markdown",
      "metadata": {
        "id": "c3k2zog40i6X"
      },
      "source": [
        "Augmentation을 진행하기 전에 tranform 함수의 매개변수 설정이 적절한지 확인합니다. \n",
        "\n",
        "이미지 변형이 지나치게 크거나 거의 없는 경우 매개변수 값을 수정합니다."
      ]
    },
    {
      "cell_type": "code",
      "metadata": {
        "id": "CTUwnKw6vy37"
      },
      "source": [
        "# 이미지에 keypoints를 표시하여 출력하는 함수\n",
        "def vis_keypoints(image, keypoints, ax):\n",
        "    image = image.copy()\n",
        "    for (x, y) in keypoints:\n",
        "        cv2.circle(image, (int(x), int(y)), 2, (0, 0, 255), -1)\n",
        "    \n",
        "    ax.imshow(image)\n",
        "    ax.set_xticks([]), ax.set_yticks([])"
      ],
      "execution_count": null,
      "outputs": []
    },
    {
      "cell_type": "code",
      "metadata": {
        "colab": {
          "base_uri": "https://localhost:8080/",
          "height": 277
        },
        "id": "6U0AfcdbrcJ2",
        "outputId": "8615f5b6-04fa-4492-8cb8-638d71ff3dec"
      },
      "source": [
        "# 이미지 파일과 npy 파일을 불러옵니다.\n",
        "keypoints_npy = np.load(\"## npy 파일 경로 ##\", allow_pickle=True)\n",
        "npy_id_list = [dictionary['id'] for dictionary in keypoints_npy] \n",
        "\n",
        "img_list = glob.glob(\"## 이미지 폴더 경로/* ##\")\n",
        "img_id = [os.path.basename(image).split('.')[0] for image in img_list]\n",
        "\n",
        "## 임의의 이미지에 대하여 resize 및 augmentation을 진행하고 출력합니다. ##\n",
        "id = npy_id_list[0]\n",
        "img = cv2.imread(img_list[img_id.index(id)])\n",
        "keypoints = keypoints_npy[0]['keypoints']\n",
        "\n",
        "# 128 x 128 resize\n",
        "square_img, square_keypoints = get_square_image(img, keypoints)\n",
        "resized = resize(image=img, keypoints=square_keypoints, class_labels=class_labels)\n",
        "\n",
        "# augmentation 출력\n",
        "fig = plt.figure(figsize=(20, 20))\n",
        "for i in range(1, 5):\n",
        "    transformed = transform(image=resized['image'], keypoints=resized['keypoints'], class_labels=class_labels)\n",
        "    ax = fig.add_subplot(1, 4, i)\n",
        "    vis_keypoints(transformed['image'], transformed['keypoints'], ax)"
      ],
      "execution_count": null,
      "outputs": [
        {
          "output_type": "display_data",
          "data": {
            "image/png": "[encoded data removed]",
            "text/plain": [
              "<Figure size 1440x1440 with 4 Axes>"
            ]
          },
          "metadata": {
            "tags": []
          }
        }
      ]
    },
    {
      "cell_type": "markdown",
      "metadata": {
        "id": "3gfYmtq2otIJ"
      },
      "source": [
        "앞서 생성한 resize, transform 함수와 get_square_image 함수를 이용해 이미지 resize 및 augmentation을 진행합니다."
      ]
    },
    {
      "cell_type": "code",
      "metadata": {
        "id": "c5mByYW45T13"
      },
      "source": [
        "import glob\n",
        "import os\n",
        "\n",
        "# 앞서 생성한 keypoints 좌표 & 라벨 npy 파일을 불러옵니다.\n",
        "keypoints_npy = np.load(\"## npy 파일 경로 ##\", allow_pickle=True)\n",
        "npy_id_list = [dictionary['id'] for dictionary in keypoints_npy] # npy 파일의 id 리스트를 반환합니다.\n",
        "\n",
        "# 이미지 파일들을 불러옵니다.\n",
        "img_list = glob.glob('## 이미지 폴더 경로/* ##') # 이미지 파일 경로 리스트를 반환합니다.\n",
        "img_id = [os.path.basename(image).split('.')[0] for image in img_list] # 반환된 이미지 파일 경로에서 이미지 이름만 추출합니다.\n",
        "\n",
        "augmented_npy = []\n",
        "image_save_dir = \"## resized & augmented 이미지를 저장할 폴더 경로 ##\"\n",
        "\n",
        "for id in npy_id_list: # keypoint 좌표 & 라벨을 가진 제품 중 \n",
        "    if id in img_id: # 이미지 파일을 가진 제품에 대해서 이미지 증강을 진행합니다.\n",
        "\n",
        "        # 해당 id의 이미지를 ndarray로 불러옵니다\n",
        "        img = cv2.imread(img_list[img_id.index(id)], 0)\n",
        "\n",
        "        # 해당 id의 keypoint 좌표 리스트를 불러옵니다.\n",
        "        keypoints = keypoints_npy[npy_id_list.index(id)]['keypoints']\n",
        "\n",
        "\n",
        "        ## 1. 이미지 비율을 유지하여 (128, 128)로 resize 합니다. ##\n",
        "\n",
        "        square_img, square_keypoints = get_square_image(img, keypoints) # 이미지 비율 유지하여 정사각형으로 변환합니다.\n",
        "        resized = resize(image=img, keypoints=square_keypoints, class_labels=class_labels) # 이미지 크기를 (128, 128)로 resize 합니다.\n",
        "\n",
        "        # resize 한 이미지를 지정된 폴더에 저장하고\n",
        "        # id와 keypoints 좌표를 dictionary로 변환하여 dictionary 리스트에 추가합니다.\n",
        "        cv2.imwrite(image_save_dir + id + '.png', resized['image'])\n",
        "        augmented_npy.append({'id': id, 'keypoints': resized['keypoints']})\n",
        "\n",
        "\n",
        "        ## 2. 학습 이미지를 부풀리기 위해 이미지 형태에 변화를 줍니다. ##\n",
        "\n",
        "        for i in range(1, ## n ##): # 이미지를 n배 부풀립니다.\n",
        "            \n",
        "            # 앞서 trasform에 지정한 범위 내에서 이미지 형태에 변화를 줍니다.\n",
        "            transformed = transform(image=resized['image'], keypoints=resized['keypoints'], class_labels=class_labels)\n",
        "\n",
        "            # 변형한 이미지를 지정된 폴더에 저장하고\n",
        "            # id와 keypoints 좌표를 dictionary로 변환하여 dictionary 리스트에 추가합니다.\n",
        "            aug_id = id + '_aug' + str(i)\n",
        "            dst_dir = image_save_dir + aug_id + '.png'\n",
        "            cv2.imwrite(dst_dir, transformed['image'])\n",
        "            augmented_npy.append({'id': aug_id, 'keypoints': transformed['keypoints']})"
      ],
      "execution_count": null,
      "outputs": []
    },
    {
      "cell_type": "markdown",
      "metadata": {
        "id": "j8R91h9Nc6Qu"
      },
      "source": [
        "# 2. 모델 학습"
      ]
    },
    {
      "cell_type": "markdown",
      "metadata": {
        "id": "jkA1HgH65oFX"
      },
      "source": [
        "1. 학습 & 평가 데이터를 생성합니다."
      ]
    },
    {
      "cell_type": "code",
      "metadata": {
        "id": "_erYLnsv0S-U"
      },
      "source": [
        "import numpy as np\n",
        "import glob\n",
        "import os\n",
        "import cv2"
      ],
      "execution_count": null,
      "outputs": []
    },
    {
      "cell_type": "code",
      "metadata": {
        "id": "ebc82ucFPjOw"
      },
      "source": [
        "# 1. 학습 이미지와 keypoints 좌표값을 불러옵니다.\n",
        "\n",
        "image_list = glob.glob(\"## 학습 이미지 폴더 경로/* ##\")\n",
        "image_id = [os.path.basename(image).split('.')[0] for image in image_list]\n",
        "\n",
        "keypoints_npy = np.load(\"## 학습 이미지 keypoints npy 파일 경로 ##\", allow_pickle=True)\n",
        "npy_id_list = [dictionary['id'] for dictionary in keypoints_npy] \n",
        "\n",
        "# 원본 + 변형 이미지 전체 리스트\n",
        "total_images = []\n",
        "total_y = []\n",
        "\n",
        "\n",
        "for id in npy_id_list:\n",
        "    if id in image_id:\n",
        "        i = image_id.index(id)\n",
        "        # channel: 1 인 image array를 형성하고 total_images 리스트에 추가합니다.\n",
        "        img = cv2.imread(image_list[i], 0)\n",
        "        total_images.append(img)\n",
        "\n",
        "        # 각 image array에 해당하는 keypoints array 를 형성하고 total_y 리스트에 추가합니다.\n",
        "        keypoints = []\n",
        "        for point in keypoints_npy[npy_id_list.index(id)]['keypoints']:\n",
        "            keypoints.extend([round(v, 2) for v in list(point)])\n",
        "        total_y.append(keypoints)\n",
        "\n",
        "\n",
        "# 0~255 의 값을 가지는 이미지 pixel 값들을 0~1로 정규화합니다.\n",
        "total_images = np.array(total_images) / 255\n",
        "\n",
        "X = total_images.reshape(-1, 128, 128, 1)\n",
        "y = np.array(total_y, dtype='float')"
      ],
      "execution_count": null,
      "outputs": []
    },
    {
      "cell_type": "code",
      "metadata": {
        "id": "IKKx00S96M81"
      },
      "source": [
        "# 2. 학습 데이터, 평가 데이터로 분할합니다.\n",
        "\n",
        "from sklearn.model_selection import train_test_split\n",
        "\n",
        "X_train, X_test, y_train, y_test = train_test_split(X, y, test_size=0.1, random_state=42)"
      ],
      "execution_count": null,
      "outputs": []
    },
    {
      "cell_type": "markdown",
      "metadata": {
        "id": "wxtqc55M6hQb"
      },
      "source": [
        "2. 모델 생성 ( 조정 중 )\n",
        "\n",
        "* input_shape = (128, 128, 1) : image\n",
        "* output_shape = (16, ) : keypoints\n",
        "\n",
        "    shape = (128, 128, 1) 인 이미지 array에 대해서 [gore1_x, gore1_y, ... , cup2_bottom_x, cup2_bottom_y] 리스트의 값들을 예측합니다."
      ]
    },
    {
      "cell_type": "code",
      "metadata": {
        "id": "rBNk931JsUsN"
      },
      "source": [
        "# 모델 생성\n",
        "\n",
        "from keras.models import Sequential\n",
        "from keras.layers import Conv2D, MaxPooling2D, BatchNormalization, Flatten, Dense, Dropout\n",
        "\n",
        "model = Sequential()\n",
        "\n",
        "model.add(Conv2D(64, (3, 3), activation='relu', padding='same', input_shape=(128, 128, 1)))\n",
        "model.add(BatchNormalization())\n",
        "model.add(Conv2D(64, (3, 3), activation='relu', padding='same'))\n",
        "model.add(BatchNormalization())\n",
        "model.add(MaxPooling2D(pool_size=(2, 2)))\n",
        "\n",
        "model.add(Conv2D(96, (3, 3), activation='relu', padding='same'))\n",
        "model.add(BatchNormalization())\n",
        "model.add(Conv2D(96, (3, 3), activation='relu', padding='same'))\n",
        "model.add(BatchNormalization())\n",
        "model.add(MaxPooling2D(pool_size=(2, 2)))\n",
        "\n",
        "model.add(Conv2D(128, (3, 3), activation='relu', padding='same'))\n",
        "model.add(BatchNormalization())\n",
        "model.add(Conv2D(128, (3, 3), activation='relu', padding='same'))\n",
        "model.add(BatchNormalization())\n",
        "model.add(MaxPooling2D(pool_size=(2, 2)))\n",
        "\n",
        "model.add(Conv2D(256, (3, 3), activation='relu', padding='same'))\n",
        "model.add(BatchNormalization())\n",
        "model.add(Conv2D(256, (3, 3), activation='relu', padding='same'))\n",
        "model.add(BatchNormalization())\n",
        "model.add(MaxPooling2D(pool_size=(2, 2)))\n",
        "\n",
        "model.add(Conv2D(96, (3, 3), activation='relu', padding='same'))\n",
        "model.add(BatchNormalization())\n",
        "model.add(Conv2D(96, (3, 3), activation='relu', padding='same'))\n",
        "model.add(BatchNormalization())\n",
        "model.add(MaxPooling2D(pool_size=(2, 2)))\n",
        "\n",
        "model.add(Flatten())\n",
        "model.add(Dense(64, activation='relu'))\n",
        "model.add(Dropout(0.1))\n",
        "model.add(Dense(16))\n",
        "model.summary()"
      ],
      "execution_count": null,
      "outputs": []
    },
    {
      "cell_type": "code",
      "metadata": {
        "id": "GACfvRpdt1bV"
      },
      "source": [
        "# 모델 컴파일\n",
        "\n",
        "from keras.optimizers import SGD, Adam\n",
        "\n",
        "LR = 0.001\n",
        "\n",
        "model.compile(optimizer=Adam(LR), \n",
        "              loss='mean_squared_error', \n",
        "              metrics=['mae'])"
      ],
      "execution_count": null,
      "outputs": []
    },
    {
      "cell_type": "markdown",
      "metadata": {
        "id": "XzhZZc9m69XL"
      },
      "source": [
        "3. 모델 가중치를 학습합니다."
      ]
    },
    {
      "cell_type": "code",
      "metadata": {
        "id": "nBXAivrcA1Gz"
      },
      "source": [
        "from keras.callbacks import EarlyStopping\n",
        "\n",
        "# 20번의 epoch 동안 val_loss가 더 이상 작아지지 않을 경우 학습을 중단합니다.\n",
        "es = EarlyStopping(monitor='val_loss', mode='min', patience=20)"
      ],
      "execution_count": null,
      "outputs": []
    },
    {
      "cell_type": "code",
      "metadata": {
        "id": "cxwPyPvRt_SD"
      },
      "source": [
        "EPOCHS = 300\n",
        "BATCH_SIZE = 200\n",
        "\n",
        "history = model.fit(X_train, y_train, \n",
        "                    epochs=EPOCHS, \n",
        "                    batch_size=BATCH_SIZE, \n",
        "                    validation_split=0.1,\n",
        "                    callbacks=[es])"
      ],
      "execution_count": null,
      "outputs": []
    },
    {
      "cell_type": "code",
      "metadata": {
        "colab": {
          "base_uri": "https://localhost:8080/",
          "height": 573
        },
        "id": "_hHsfp509WZe",
        "outputId": "30b47b0b-8a4d-4d62-8eae-8a15969376ec"
      },
      "source": [
        "# 학습 시각화\n",
        "import matplotlib.pyplot as plt\n",
        "\n",
        "plt.plot(history.history['mae'])\n",
        "plt.plot(history.history['val_mae'])\n",
        "\n",
        "plt.title('Mean Absolute Error')\n",
        "plt.ylabel('mae')\n",
        "plt.xlabel('epoch')\n",
        "plt.legend(['train', 'val'], loc = 'upper left')\n",
        "plt.show()\n",
        "\n",
        "plt.plot(history.history['loss'])\n",
        "plt.plot(history.history['val_loss'])\n",
        "\n",
        "plt.title('Loss')\n",
        "plt.ylabel('loss')\n",
        "plt.xlabel('epoch')\n",
        "plt.legend(['train', 'val'], loc = 'upper left')\n",
        "plt.show()"
      ],
      "execution_count": null,
      "outputs": [
        {
          "output_type": "display_data",
          "data": {
            "image/png": "[encoded data removed]",
            "text/plain": [
              "<Figure size 432x288 with 1 Axes>"
            ]
          },
          "metadata": {
            "tags": [],
            "needs_background": "light"
          }
        },
        {
          "output_type": "display_data",
          "data": {
            "image/png": "[encoded data removed]",
            "text/plain": [
              "<Figure size 432x288 with 1 Axes>"
            ]
          },
          "metadata": {
            "tags": [],
            "needs_background": "light"
          }
        }
      ]
    },
    {
      "cell_type": "markdown",
      "metadata": {
        "id": "SVZr6Jr2dG31"
      },
      "source": [
        "4. 모델 정확도를 평가하고 예측한 keypoint를 시각화합니다."
      ]
    },
    {
      "cell_type": "code",
      "metadata": {
        "colab": {
          "base_uri": "https://localhost:8080/"
        },
        "id": "8PzW8tmZLLE7",
        "outputId": "ffc0dc1b-3970-4bba-ae0d-31bd10b81cbd"
      },
      "source": [
        "# 평가 데이터에 대하여 절대값 오차와 제곱근 오차를 계산합니다.\n",
        "\n",
        "from sklearn.metrics import mean_absolute_error, mean_squared_error\n",
        "\n",
        "pred = model.predict(X_test)\n",
        "\n",
        "mae = mean_absolute_error(y_test, pred)\n",
        "mse = mean_squared_error(y_test, pred)\n",
        "print(\"Mean Absolute Error: {0:.4f}\".format(mae))\n",
        "print(\"Mean Squared Error: {0:.4f}\".format(mse))"
      ],
      "execution_count": null,
      "outputs": [
        {
          "output_type": "stream",
          "text": [
            "Mean Absolute Error: 2.4956\n",
            "Mean Squared Error: 12.2384\n"
          ],
          "name": "stdout"
        }
      ]
    },
    {
      "cell_type": "code",
      "metadata": {
        "colab": {
          "base_uri": "https://localhost:8080/",
          "height": 887
        },
        "id": "6IMV4Pdp_VNU",
        "outputId": "2ffd396c-fdd8-41ec-8308-bd423e357740"
      },
      "source": [
        "# 평가 데이터의 이미지 중 임의로 3개를 뽑아 예측한 keypoints를 시각화합니다.\n",
        "\n",
        "import matplotlib.pyplot as plt\n",
        "import random\n",
        "\n",
        "for i, num in enumerate(random.sample(range(len(y_test)), 3)):\n",
        "    plt.figure(figsize=(16, 16))\n",
        "    plt.subplot(3, 1, i+1)\n",
        "    plt.imshow(X_test[num].reshape(128, 128), 'gray')\n",
        "    for j in range(0, 15, 2):\n",
        "        plt.scatter(y_test[num][j], y_test[num][j+1], s=20, marker='o', c='b')\n",
        "        plt.scatter(pred[num][j], pred[num][j+1], s=20, marker='x', c='r')"
      ],
      "execution_count": null,
      "outputs": [
        {
          "output_type": "display_data",
          "data": {
            "image/png": "[encoded data removed]",
            "text/plain": [
              "<Figure size 1152x1152 with 1 Axes>"
            ]
          },
          "metadata": {
            "tags": [],
            "needs_background": "light"
          }
        },
        {
          "output_type": "display_data",
          "data": {
            "image/png": "[encoded data removed]",
            "text/plain": [
              "<Figure size 1152x1152 with 1 Axes>"
            ]
          },
          "metadata": {
            "tags": [],
            "needs_background": "light"
          }
        },
        {
          "output_type": "display_data",
          "data": {
            "image/png": "[encoded data removed]",
            "text/plain": [
              "<Figure size 1152x1152 with 1 Axes>"
            ]
          },
          "metadata": {
            "tags": [],
            "needs_background": "light"
          }
        }
      ]
    },
    {
      "cell_type": "markdown",
      "metadata": {
        "id": "jsCxY4E9dB7e"
      },
      "source": [
        "5. 학습된 모델을 저장합니다.\n",
        "\n",
        "이전 모델보다 정확도가 개선된 경우 현재 학습된 모델을 저장합니다."
      ]
    },
    {
      "cell_type": "code",
      "metadata": {
        "id": "c1F_LycNunFL",
        "colab": {
          "base_uri": "https://localhost:8080/"
        },
        "outputId": "c438e69d-d6f2-4a70-d0d6-f3843a4b1ac5"
      },
      "source": [
        "# 같은 경로로 다른 모델을 저장할 경우 이전 모델 정보가 사라지기 때문에 경로 설정에 주의합니다.\n",
        "\n",
        "model.save(\"## 가중치가 학습된 모델 저장 경로 ##\", overwrite=False)"
      ],
      "execution_count": null,
      "outputs": [
        {
          "output_type": "stream",
          "text": [
            "INFO:tensorflow:Assets written to: /content/drive/MyDrive/Likenot_ML/Keypoint/model_4/assets\n"
          ],
          "name": "stdout"
        }
      ]
    },
    {
      "cell_type": "markdown",
      "metadata": {
        "id": "b116pI5X71zB"
      },
      "source": [
        "( 6. 모델 불러오기 ) "
      ]
    },
    {
      "cell_type": "code",
      "metadata": {
        "id": "GCERWqg6M-LP",
        "colab": {
          "base_uri": "https://localhost:8080/"
        },
        "outputId": "c68ec61d-586d-41e7-d300-010735877295"
      },
      "source": [
        "import keras\n",
        "\n",
        "model = keras.models.load_model(\"## 저장된 모델 경로 ##\")"
      ],
      "execution_count": null,
      "outputs": [
        {
          "output_type": "stream",
          "text": [
            "WARNING:tensorflow:SavedModel saved prior to TF 2.5 detected when loading Keras model. Please ensure that you are saving the model with model.save() or tf.keras.models.save_model(), *NOT* tf.saved_model.save(). To confirm, there should be a file named \"keras_metadata.pb\" in the SavedModel directory.\n"
          ],
          "name": "stdout"
        }
      ]
    },
    {
      "cell_type": "code",
      "metadata": {
        "id": "joFk7FolRd1S"
      },
      "source": [
        "# 모델 구조를 시각화합니다.\n",
        "\n",
        "!pip install graphviz\n",
        "!pip install pydot\n",
        "\n",
        "from IPython.display import SVG\n",
        "from keras.utils.vis_utils import plot_model\n",
        "\n",
        "plot_model(model, 'model_4.png', show_shapes=True)"
      ],
      "execution_count": null,
      "outputs": []
    },
    {
      "cell_type": "markdown",
      "metadata": {
        "id": "t9LfQkHjem_9"
      },
      "source": [
        "# 3. 새로운 이미지의 keypoint 예측"
      ]
    },
    {
      "cell_type": "code",
      "metadata": {
        "id": "_iad6JCflV1N"
      },
      "source": [
        "import numpy as np\n",
        "import pandas as pd\n",
        "import cv2"
      ],
      "execution_count": null,
      "outputs": []
    },
    {
      "cell_type": "markdown",
      "metadata": {
        "id": "LD0CVMaQ0FaC"
      },
      "source": [
        "1. 새로운 이미지를 ndarray 형태로 준비합니다."
      ]
    },
    {
      "cell_type": "code",
      "metadata": {
        "id": "rUgfcH6fepsf"
      },
      "source": [
        "# 이미지의 비율을 유지하여 정사각형 이미지로 resize하는 함수\n",
        "\n",
        "def get_resized_image(img, resize_shape): # shape: 세로, 가로 길이가 같은 정사각형의 튜플\n",
        "    h = img.shape[0] # 이미지의 세로 길이\n",
        "    w = img.shape[1] # 이미지의 가로 길이\n",
        "\n",
        "    if h < w: # 가로가 세로보다 길 경우 위, 아래에 여백을 추가합니다.\n",
        "        img_border = cv2.copyMakeBorder(img, int((w-h)/2), int((w-h)/2), 0, 0, cv2.BORDER_REPLICATE)    \n",
        "    else: # 세로가 가로보다 길 경우 양 옆에 여백을 추가합니다.\n",
        "        img_border = cv2.copyMakeBorder(img, 0, 0, int((h-w)/2), int((h-w)/2), cv2.BORDER_REPLICATE)\n",
        "\n",
        "    # 정사각형 이미지의 크기를 resize_shape로 변환합니다.\n",
        "    img_resized = cv2.resize(img_border, resize_shape, interpolation=cv2.INTER_AREA)\n",
        "\n",
        "    return img_resized"
      ],
      "execution_count": null,
      "outputs": []
    },
    {
      "cell_type": "code",
      "metadata": {
        "id": "9du-BRudhdmR"
      },
      "source": [
        "# 예측할 이미지를 ndarray 형태로 불러옵니다.\n",
        "\n",
        "filepath = '### 이미지 경로 설정 ###'\n",
        "\n",
        "images_arr = []\n",
        "image_id = []\n",
        "\n",
        "for filename in os.listdir(filepath):\n",
        "    image = cv2.imread(os.path.join(filepath, filename), 0)\n",
        "    resized_img = get_resized_image(image, (128, 128)) # 이미지 비율을 유지하여 128 x 128로 resize 합니다.\n",
        "\n",
        "    images_arr.append(resized_img)\n",
        "    image_id.append(filename.split('.')[0])\n",
        "\n",
        "images_arr = np.array(images_arr) / 255 # rescale=1/255\n",
        "new_images = images_arr.reshape(-1, 128, 128, 1)"
      ],
      "execution_count": null,
      "outputs": []
    },
    {
      "cell_type": "markdown",
      "metadata": {
        "id": "3xE78TU10J-h"
      },
      "source": [
        "2. 저장한 모델 불러와 keypoint를 예측합니다."
      ]
    },
    {
      "cell_type": "code",
      "metadata": {
        "id": "9qRsu13ghMO3"
      },
      "source": [
        "import keras\n",
        "\n",
        "# 저장된 모델을 불러옵니다.\n",
        "model = keras.models.load_model('### 모델 폴더 저장 경로 ###')\n",
        "\n",
        "# 새로운 이미지의 keypoint를 예측합니다.\n",
        "pred_keypoints = model.predict(new_images) "
      ],
      "execution_count": null,
      "outputs": []
    },
    {
      "cell_type": "code",
      "metadata": {
        "id": "prUPynPkoVDD"
      },
      "source": [
        "# 이미지의 id, 예측 keypoint, label을 dictionary 형태로 저장합니다.\n",
        "\n",
        "pred_keypoint_dict_list = []\n",
        "labels = ['gore1', 'gore2','cup1_top', 'cup1_wire', 'cup1_bottom', 'cup2_top', 'cup2_wire', 'cup2_bottom']\n",
        "\n",
        "for i in range(len(image_id)):\n",
        "    id = image_id[i]\n",
        "    keypoints = [round(x, 0) for x in pred_keypoint[i]]\n",
        "\n",
        "    gore1 = (keypoints[0], keypoints[1])\n",
        "    gore2 = (keypoints[2], keypoints[3])\n",
        "\n",
        "    cup1_top = (keypoints[4], keypoints[5])\n",
        "    cup1_wire = (keypoints[6], keypoints[7])\n",
        "    cup1_bottom = (keypoints[8], keypoints[9])\n",
        "\n",
        "    cup2_top = (keypoints[10], keypoints[11])\n",
        "    cup2_wire = (keypoints[12], keypoints[13])\n",
        "    cup2_bottom = (keypoints[14], keypoints[15])\n",
        "\n",
        "    keypoints_list = [gore1, gore2, cup1_top, cup1_wire, cup1_bottom, cup2_top, cup2_wire, cup2_bottom]\n",
        "    pred_keypoint_dict_list.append({'id': image_id[i], 'keypoints': keypoints_list, 'labels': labels})"
      ],
      "execution_count": null,
      "outputs": []
    },
    {
      "cell_type": "code",
      "metadata": {
        "id": "FwgYvn_1r8Ls"
      },
      "source": [
        "# dictionary를 npy 파일로 저장합니다.\n",
        "np.save('### npy파일 저장 경로 ###', pred_keypoint_dict_list)"
      ],
      "execution_count": null,
      "outputs": []
    },
    {
      "cell_type": "markdown",
      "metadata": {
        "id": "3veo51sL1Di3"
      },
      "source": [
        "3. 예측한 keypoints를 시각화합니다."
      ]
    },
    {
      "cell_type": "code",
      "metadata": {
        "id": "qOCagIRa0lUy"
      },
      "source": [
        "# 새로운 이미지 중 임의로 3개를 뽑아 예측한 keypoints를 시각화합니다.\n",
        "\n",
        "import matplotlib.pyplot as plt\n",
        "import random\n",
        "\n",
        "for i, num in enumerate(random.sample(range(len(pred_keypoints)), 3)):\n",
        "    plt.figure(figsize=(16, 16))\n",
        "    plt.subplot(3, 1, i+1)\n",
        "    plt.imshow(new_images[num].reshape(128, 128), 'gray')\n",
        "    for j in range(0, 15, 2):\n",
        "        plt.scatter(pred_keypoints[num][j], pred_keypoints[num][j+1], s=20, marker='x', c='r')"
      ],
      "execution_count": null,
      "outputs": []
    },
    {
      "cell_type": "markdown",
      "metadata": {
        "id": "6h4qHSg90PYc"
      },
      "source": [
        "# 4. 예측한 keypoint로 고어 높이 라벨 분류"
      ]
    },
    {
      "cell_type": "code",
      "metadata": {
        "id": "-TO_562twLCI"
      },
      "source": [
        "#class_labels = ['gore1', 'gore2', 'cup1_top', 'cup1_wire', 'cup1_bottom', 'cup2_top', 'cup2_wire', 'cup2_bottom']\n",
        "\n",
        "# 예측한 keypoint 파일을 불러옵니다.\n",
        "pred_keypoints_npy = np.load('### npy파일 저장 경로 ###')\n",
        "goreHeight_pred = pd.DataFrame(columns=['ID', 'wire2cup', 'gore2wire'])\n",
        "\n",
        "# 각 이미지의 컵 높이, 와이어 높이, 고어 높이를 계산한 후\n",
        "# 와이어 높이 / 컵 높이, 고어 높이 / 와이어 높이 의 비율을 계산합니다.\n",
        "for i in range(len(pred_keypoints_npy)):\n",
        "    item = pred_keypoints_npy[i]\n",
        "    goreHeight_pred.loc[i, 'ID'] = item['id']\n",
        "\n",
        "    cup_y = round(item['keypoints'][2][1] + item['keypoints'][5][1] / 2, 1) # cup1_top[y] + cup2_top[y] / 2\n",
        "    wire_y = round(item['keypoints'][3][1] + item['keypoints'][6][1] / 2, 1) # cup1_wire[y] + cup2_wire[y] / 2\n",
        "    bottom_y = round(item['keypoints'][4][1] + item['keypoints'][7][1] / 2, 1) # cup1_bottom[y] + cup2_bottom[y] / 2\n",
        "    gore_y = round(item['keypoints'][0][1] + item['keypoints'][1][1] / 2, 1) # gore1[y] + gore2[y] / 2\n",
        "\n",
        "    cup_len = bottom_y - cup_y\n",
        "    wire_len = bottom_y - wire_y\n",
        "    gore_len = bottom_y - gore_y\n",
        "    \n",
        "    goreHeight_pred.loc[i, 'wire2cup'] = round(wire_len / cup_len, 2) \n",
        "    goreHeight_pred.loc[i, 'gore2wire'] = round(gore_len / wire_len, 2)"
      ],
      "execution_count": null,
      "outputs": []
    },
    {
      "cell_type": "code",
      "metadata": {
        "id": "jy_Df0T5xODF"
      },
      "source": [
        "# 와이어 높이가 컵에서 차지하는 비율에 따라 고어 높이 라벨의 분류 비율이 달라지도록 설정합니다.\n",
        "# 분류 기준은 임의로 설정한 것이므로, 정확한 고어 높이 라벨을 예측하기 위해선 추가적인 수정이 필요합니다.\n",
        "\n",
        "def get_height_label(wire2cup, gore2wire):\n",
        "    if wire2cup < 0.45:\n",
        "        if gore2wire < 0.8:\n",
        "            label = 0\n",
        "        else:\n",
        "            label = 1\n",
        "    elif wire2cup < 0.65:\n",
        "        if gore2wire < 0.5:\n",
        "            label = 0\n",
        "        elif gore2wire < 0.7:\n",
        "            label = 1\n",
        "        else:\n",
        "            label = 2\n",
        "    else:\n",
        "        if gore2wire < 0.45:\n",
        "            label = 0\n",
        "        elif gore2wire < 0.65:\n",
        "            label = 1\n",
        "        else:\n",
        "            label = 2\n",
        "\n",
        "    return label"
      ],
      "execution_count": null,
      "outputs": []
    },
    {
      "cell_type": "code",
      "metadata": {
        "id": "Iq7Ov0Quw_xi"
      },
      "source": [
        "# 앞서 생성한 goreHeight_pred data frame에 분류한 고어 높이 라벨 정보를 추가합니다.\n",
        "\n",
        "for i in goreHeight_pred.index:\n",
        "    goreHeight_pred.loc[i, 'height_label'] = get_height_label(goreHeight_pred.loc[i, 'wire2cup'], goreHeight_pred.loc[i, 'gore2wire'])\n",
        "  \n",
        "goreHeight_pred['height_label'] = goreHeight_pred['height_label'].astype(int)"
      ],
      "execution_count": null,
      "outputs": []
    },
    {
      "cell_type": "code",
      "metadata": {
        "id": "IkhDtXfhynyu"
      },
      "source": [
        "# goreHeight_pred data frame 을 저장합니다.\n",
        "goreHeight_pred.to_csv('### 고어 높이 예측 csv파일 저장 경로 ###', index=False)"
      ],
      "execution_count": null,
      "outputs": []
    }
  ]
}