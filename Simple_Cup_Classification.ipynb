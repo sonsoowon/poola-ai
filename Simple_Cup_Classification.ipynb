{
  "nbformat": 4,
  "nbformat_minor": 0,
  "metadata": {
    "colab": {
      "provenance": []
    },
    "kernelspec": {
      "name": "python3",
      "display_name": "Python 3"
    },
    "accelerator": "GPU"
  },
  "cells": [
    {
      "cell_type": "code",
      "metadata": {
        "colab": {
          "base_uri": "https://localhost:8080/"
        },
        "id": "YDKGqepj9ThZ",
        "outputId": "463f0f12-0d83-456c-fb26-631003080185"
      },
      "source": [
        "from google.colab import drive\n",
        "\n",
        "drive.mount('/content/drive')"
      ],
      "execution_count": null,
      "outputs": [
        {
          "output_type": "stream",
          "text": [
            "Mounted at /content/drive\n"
          ],
          "name": "stdout"
        }
      ]
    },
    {
      "cell_type": "code",
      "metadata": {
        "id": "opqG2QTr9fI7"
      },
      "source": [
        "# goreHeight.zip 압축 해제\n",
        "\n",
        "import zipfile\n",
        "\n",
        "with zipfile.ZipFile('/content/drive/MyDrive/Likenot_ML/Bra_Contours_labeled/Cup.zip', 'r') as zip_ref:\n",
        "    zip_ref.extractall('/content/drive/MyDrive/Likenot_ML/Bra_Contours_labeled/Cup')"
      ],
      "execution_count": null,
      "outputs": []
    },
    {
      "cell_type": "code",
      "metadata": {
        "colab": {
          "base_uri": "https://localhost:8080/"
        },
        "id": "m5eDf1KA9kbR",
        "outputId": "0d91ec43-c025-48fd-d28c-c400f90734dc"
      },
      "source": [
        "# train set 불러오기\n",
        "\n",
        "from tensorflow import keras\n",
        "\n",
        "train_datagen = keras.preprocessing.image.ImageDataGenerator(rescale=1/255, validation_split=0.2)\n",
        "\n",
        "train_generator = train_datagen.flow_from_directory(\n",
        "    '/content/drive/MyDrive/Likenot_ML/Bra_Contours_Labeled/Cup/train',\n",
        "    class_mode='categorical',\n",
        "    subset='training',\n",
        "    color_mode='grayscale',\n",
        "    batch_size=50\n",
        ")\n",
        "\n",
        "validation_generator = train_datagen.flow_from_directory(\n",
        "    '/content/drive/MyDrive/Likenot_ML/Bra_Contours_Labeled/Cup/train',\n",
        "    class_mode='categorical',\n",
        "    subset='validation',\n",
        "    color_mode='grayscale',\n",
        "    batch_size=50\n",
        ")"
      ],
      "execution_count": null,
      "outputs": [
        {
          "output_type": "stream",
          "text": [
            "Found 486 images belonging to 3 classes.\n",
            "Found 119 images belonging to 3 classes.\n"
          ],
          "name": "stdout"
        }
      ]
    },
    {
      "cell_type": "code",
      "metadata": {
        "colab": {
          "base_uri": "https://localhost:8080/"
        },
        "id": "N3_m7sBj9lSa",
        "outputId": "8b019c2f-be04-4cb7-b5a2-313063b8c582"
      },
      "source": [
        "# test set 불러오기\n",
        "\n",
        "from tensorflow import keras\n",
        "\n",
        "test_datagen = keras.preprocessing.image.ImageDataGenerator(rescale=1/255)\n",
        "\n",
        "test_generator = test_datagen.flow_from_directory(\n",
        "    '/content/drive/MyDrive/Likenot_ML/Bra_Contours_Labeled/Cup/test',\n",
        "    class_mode='categorical',\n",
        "    color_mode='grayscale'\n",
        ")"
      ],
      "execution_count": null,
      "outputs": [
        {
          "output_type": "stream",
          "text": [
            "Found 151 images belonging to 3 classes.\n"
          ],
          "name": "stdout"
        }
      ]
    },
    {
      "cell_type": "code",
      "metadata": {
        "colab": {
          "base_uri": "https://localhost:8080/"
        },
        "id": "AmkOcgMp9n2S",
        "outputId": "1f99086e-7b01-4405-ff9e-73dc16807653"
      },
      "source": [
        "from keras.layers import Conv2D, MaxPooling2D, Dropout, Flatten, Dense\n",
        "\n",
        "model = keras.Sequential()\n",
        "\n",
        "model.add(Conv2D(32, (3, 3), activation='relu', padding='same',\n",
        "                 input_shape=train_generator.image_shape))\n",
        "model.add(Conv2D(32, (3, 3), activation='relu', padding='same'))\n",
        "model.add(MaxPooling2D(pool_size=(2, 2)))\n",
        "model.add(Dropout(0.2))\n",
        "\n",
        "model.add(Conv2D(64, (3, 3), activation='relu', padding='same'))\n",
        "model.add(Conv2D(64, (3, 3), activation='relu', padding='same'))\n",
        "model.add(MaxPooling2D(pool_size=(2, 2)))\n",
        "model.add(Dropout(0.2))\n",
        "model.add(Flatten())\n",
        "\n",
        "model.add(Dense(64, activation='relu'))\n",
        "model.add(Dense(32, activation='relu'))\n",
        "model.add(Dropout(0.5))\n",
        "\n",
        "model.add(Dense(3, activation='softmax'))\n",
        "\n",
        "model.summary()"
      ],
      "execution_count": null,
      "outputs": [
        {
          "output_type": "stream",
          "text": [
            "Model: \"sequential_2\"\n",
            "_________________________________________________________________\n",
            "Layer (type)                 Output Shape              Param #   \n",
            "=================================================================\n",
            "conv2d_8 (Conv2D)            (None, 256, 256, 32)      320       \n",
            "_________________________________________________________________\n",
            "conv2d_9 (Conv2D)            (None, 256, 256, 32)      9248      \n",
            "_________________________________________________________________\n",
            "max_pooling2d_4 (MaxPooling2 (None, 128, 128, 32)      0         \n",
            "_________________________________________________________________\n",
            "dropout_6 (Dropout)          (None, 128, 128, 32)      0         \n",
            "_________________________________________________________________\n",
            "conv2d_10 (Conv2D)           (None, 128, 128, 64)      18496     \n",
            "_________________________________________________________________\n",
            "conv2d_11 (Conv2D)           (None, 128, 128, 64)      36928     \n",
            "_________________________________________________________________\n",
            "max_pooling2d_5 (MaxPooling2 (None, 64, 64, 64)        0         \n",
            "_________________________________________________________________\n",
            "dropout_7 (Dropout)          (None, 64, 64, 64)        0         \n",
            "_________________________________________________________________\n",
            "flatten_2 (Flatten)          (None, 262144)            0         \n",
            "_________________________________________________________________\n",
            "dense_6 (Dense)              (None, 64)                16777280  \n",
            "_________________________________________________________________\n",
            "dense_7 (Dense)              (None, 32)                2080      \n",
            "_________________________________________________________________\n",
            "dropout_8 (Dropout)          (None, 32)                0         \n",
            "_________________________________________________________________\n",
            "dense_8 (Dense)              (None, 3)                 99        \n",
            "=================================================================\n",
            "Total params: 16,844,451\n",
            "Trainable params: 16,844,451\n",
            "Non-trainable params: 0\n",
            "_________________________________________________________________\n"
          ],
          "name": "stdout"
        }
      ]
    },
    {
      "cell_type": "code",
      "metadata": {
        "id": "ktlI_FHu-Sfu"
      },
      "source": [
        "model.compile(optimizer='sgd', loss='categorical_crossentropy', metrics=['accuracy'])"
      ],
      "execution_count": null,
      "outputs": []
    },
    {
      "cell_type": "code",
      "metadata": {
        "id": "K8hzHqwD-hOV"
      },
      "source": [
        "# EarlyStopping 설정\n",
        "from keras.callbacks import EarlyStopping\n",
        "\n",
        "es = EarlyStopping(monitor='val_loss', mode='min', patience=10) # val_loss 기준으로 측정"
      ],
      "execution_count": null,
      "outputs": []
    },
    {
      "cell_type": "code",
      "metadata": {
        "colab": {
          "base_uri": "https://localhost:8080/"
        },
        "id": "Ikal1oL_-kiu",
        "outputId": "f723013b-4e56-4ea5-af96-ed103533e269"
      },
      "source": [
        "epochs=50\n",
        "\n",
        "history = model.fit(train_generator, epochs=epochs, validation_data=validation_generator, callbacks=es)"
      ],
      "execution_count": null,
      "outputs": [
        {
          "output_type": "stream",
          "text": [
            "Epoch 1/50\n",
            "10/10 [==============================] - 2s 151ms/step - loss: 1.0790 - accuracy: 0.4023 - val_loss: 0.9828 - val_accuracy: 0.5210\n",
            "Epoch 2/50\n",
            "10/10 [==============================] - 1s 128ms/step - loss: 0.9437 - accuracy: 0.5175 - val_loss: 0.9171 - val_accuracy: 0.5210\n",
            "Epoch 3/50\n",
            "10/10 [==============================] - 1s 128ms/step - loss: 0.9175 - accuracy: 0.5452 - val_loss: 0.9170 - val_accuracy: 0.5966\n",
            "Epoch 4/50\n",
            "10/10 [==============================] - 1s 131ms/step - loss: 0.9122 - accuracy: 0.5111 - val_loss: 0.8798 - val_accuracy: 0.5210\n",
            "Epoch 5/50\n",
            "10/10 [==============================] - 1s 130ms/step - loss: 0.8948 - accuracy: 0.5209 - val_loss: 0.8775 - val_accuracy: 0.5210\n",
            "Epoch 6/50\n",
            "10/10 [==============================] - 1s 130ms/step - loss: 0.8849 - accuracy: 0.5507 - val_loss: 0.8809 - val_accuracy: 0.5378\n",
            "Epoch 7/50\n",
            "10/10 [==============================] - 1s 131ms/step - loss: 0.8958 - accuracy: 0.4804 - val_loss: 0.8853 - val_accuracy: 0.5882\n",
            "Epoch 8/50\n",
            "10/10 [==============================] - 1s 129ms/step - loss: 0.8597 - accuracy: 0.5521 - val_loss: 0.8710 - val_accuracy: 0.6303\n",
            "Epoch 9/50\n",
            "10/10 [==============================] - 1s 129ms/step - loss: 0.8491 - accuracy: 0.5695 - val_loss: 0.8671 - val_accuracy: 0.5462\n",
            "Epoch 10/50\n",
            "10/10 [==============================] - 1s 129ms/step - loss: 0.8570 - accuracy: 0.5530 - val_loss: 0.8598 - val_accuracy: 0.5294\n",
            "Epoch 11/50\n",
            "10/10 [==============================] - 1s 129ms/step - loss: 0.8776 - accuracy: 0.5560 - val_loss: 0.8646 - val_accuracy: 0.5882\n",
            "Epoch 12/50\n",
            "10/10 [==============================] - 1s 130ms/step - loss: 0.8239 - accuracy: 0.6267 - val_loss: 0.8649 - val_accuracy: 0.6050\n",
            "Epoch 13/50\n",
            "10/10 [==============================] - 1s 132ms/step - loss: 0.8205 - accuracy: 0.5926 - val_loss: 0.8647 - val_accuracy: 0.6050\n",
            "Epoch 14/50\n",
            "10/10 [==============================] - 1s 129ms/step - loss: 0.7943 - accuracy: 0.6094 - val_loss: 0.8692 - val_accuracy: 0.6303\n",
            "Epoch 15/50\n",
            "10/10 [==============================] - 1s 129ms/step - loss: 0.7770 - accuracy: 0.6318 - val_loss: 0.8722 - val_accuracy: 0.5882\n",
            "Epoch 16/50\n",
            "10/10 [==============================] - 1s 130ms/step - loss: 0.7496 - accuracy: 0.6614 - val_loss: 0.8834 - val_accuracy: 0.5462\n",
            "Epoch 17/50\n",
            "10/10 [==============================] - 1s 128ms/step - loss: 0.7160 - accuracy: 0.6509 - val_loss: 0.8761 - val_accuracy: 0.5882\n",
            "Epoch 18/50\n",
            "10/10 [==============================] - 1s 132ms/step - loss: 0.7500 - accuracy: 0.6304 - val_loss: 0.8843 - val_accuracy: 0.5630\n",
            "Epoch 19/50\n",
            "10/10 [==============================] - 1s 140ms/step - loss: 0.7166 - accuracy: 0.6583 - val_loss: 0.8750 - val_accuracy: 0.5714\n",
            "Epoch 20/50\n",
            "10/10 [==============================] - 1s 133ms/step - loss: 0.7132 - accuracy: 0.6469 - val_loss: 0.9164 - val_accuracy: 0.5210\n"
          ],
          "name": "stdout"
        }
      ]
    },
    {
      "cell_type": "code",
      "metadata": {
        "colab": {
          "base_uri": "https://localhost:8080/"
        },
        "id": "bJdBmdd9-nyt",
        "outputId": "5574a846-0e8d-4ec4-99f2-cf5391360ac7"
      },
      "source": [
        "result = model.evaluate(test_generator, steps=1)"
      ],
      "execution_count": null,
      "outputs": [
        {
          "output_type": "stream",
          "text": [
            "1/1 [==============================] - 0s 91ms/step - loss: 0.9305 - accuracy: 0.5938\n"
          ],
          "name": "stdout"
        }
      ]
    },
    {
      "cell_type": "code",
      "metadata": {
        "colab": {
          "base_uri": "https://localhost:8080/",
          "height": 573
        },
        "id": "5h42Pu82-sbx",
        "outputId": "39b264fe-395d-4e11-f9cb-9e600f200d61"
      },
      "source": [
        "# 학습 시각화하기\n",
        "import matplotlib.pyplot as plt\n",
        "\n",
        "\n",
        "plt.plot(history.history['accuracy'])\n",
        "plt.plot(history.history['val_accuracy'])\n",
        "\n",
        "plt.title('Accuracy')\n",
        "plt.ylabel('accuracy')\n",
        "plt.xlabel('epoch')\n",
        "plt.legend(['train', 'val'], loc = 'upper left')\n",
        "plt.show()\n",
        "\n",
        "plt.plot(history.history['loss'])\n",
        "plt.plot(history.history['val_loss'])\n",
        "\n",
        "plt.title('Loss')\n",
        "plt.ylabel('loss')\n",
        "plt.xlabel('epoch')\n",
        "plt.legend(['train', 'val'], loc = 'upper left')\n",
        "plt.show()"
      ],
      "execution_count": null,
      "outputs": [
        {
          "output_type": "display_data",
          "data": {
            "image/png": "[encoded data removed]",
            "text/plain": [
              "<Figure size 432x288 with 1 Axes>"
            ]
          },
          "metadata": {
            "tags": [],
            "needs_background": "light"
          }
        },
        {
          "output_type": "display_data",
          "data": {
            "image/png": "[encoded data removed]",
            "text/plain": [
              "<Figure size 432x288 with 1 Axes>"
            ]
          },
          "metadata": {
            "tags": [],
            "needs_background": "light"
          }
        }
      ]
    }
  ]
}